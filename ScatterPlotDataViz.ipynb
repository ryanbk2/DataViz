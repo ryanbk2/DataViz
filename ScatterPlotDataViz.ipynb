{
 "cells": [
  {
   "cell_type": "code",
   "execution_count": 1,
   "id": "bf8cf9b3",
   "metadata": {},
   "outputs": [],
   "source": [
    "import bqplot\n",
    "import numpy as np\n",
    "import ipywidgets"
   ]
  },
  {
   "cell_type": "code",
   "execution_count": 2,
   "id": "fc2e4247",
   "metadata": {},
   "outputs": [],
   "source": [
    "x = np.random.random(100)\n",
    "\n",
    "y = np.random.random(100)"
   ]
  },
  {
   "cell_type": "code",
   "execution_count": 3,
   "id": "9ce0b459",
   "metadata": {},
   "outputs": [],
   "source": [
    "x_scale = bqplot.LinearScale()\n",
    "y_scale = bqplot.LinearScale()"
   ]
  },
  {
   "cell_type": "code",
   "execution_count": 5,
   "id": "9ef7f9c6",
   "metadata": {},
   "outputs": [],
   "source": [
    "axis_x = bqplot.Axis(scale = x_scale, label=\"X\")\n",
    "axis_y = bqplot.Axis(scale = y_scale, label=\"Y\", orientation='vertical')"
   ]
  },
  {
   "cell_type": "code",
   "execution_count": 6,
   "id": "8b054d7d",
   "metadata": {},
   "outputs": [],
   "source": [
    "scatters = bqplot.Scatter(x = x, y = y, scales={'x':x_scale, 'y':y_scale})"
   ]
  },
  {
   "cell_type": "code",
   "execution_count": 10,
   "id": "819d02a0",
   "metadata": {},
   "outputs": [
    {
     "data": {
      "text/plain": [
       "bqplot.interacts.FastIntervalSelector"
      ]
     },
     "execution_count": 10,
     "metadata": {},
     "output_type": "execute_result"
    }
   ],
   "source": [
    "bqplot.Scatter\n",
    "bqplot.interacts.FastIntervalSelector"
   ]
  },
  {
   "cell_type": "code",
   "execution_count": 12,
   "id": "c2705631",
   "metadata": {},
   "outputs": [],
   "source": [
    "selector = bqplot.interacts.FastIntervalSelector(scale=x_scale, marks=[scatters])"
   ]
  },
  {
   "cell_type": "code",
   "execution_count": 13,
   "id": "8bffa74b",
   "metadata": {},
   "outputs": [
    {
     "data": {
      "application/vnd.jupyter.widget-view+json": {
       "model_id": "b2e18491e6ca4b3cb5c916cdc741fb54",
       "version_major": 2,
       "version_minor": 0
      },
      "text/plain": [
       "Figure(axes=[Axis(label='X', scale=LinearScale(), side='bottom'), Axis(label='Y', orientation='vertical', scal…"
      ]
     },
     "metadata": {},
     "output_type": "display_data"
    }
   ],
   "source": [
    "figure = bqplot.Figure(marks=[scatters], axes=[axis_x, axis_y], interaction = selector)\n",
    "figure"
   ]
  },
  {
   "cell_type": "code",
   "execution_count": null,
   "id": "f04968c4",
   "metadata": {},
   "outputs": [],
   "source": []
  }
 ],
 "metadata": {
  "kernelspec": {
   "display_name": "Python 3 (ipykernel)",
   "language": "python",
   "name": "python3"
  },
  "language_info": {
   "codemirror_mode": {
    "name": "ipython",
    "version": 3
   },
   "file_extension": ".py",
   "mimetype": "text/x-python",
   "name": "python",
   "nbconvert_exporter": "python",
   "pygments_lexer": "ipython3",
   "version": "3.9.12"
  }
 },
 "nbformat": 4,
 "nbformat_minor": 5
}
